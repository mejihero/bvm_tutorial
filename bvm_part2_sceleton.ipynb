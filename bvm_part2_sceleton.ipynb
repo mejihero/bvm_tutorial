{
  "nbformat": 4,
  "nbformat_minor": 0,
  "metadata": {
    "colab": {
      "name": "bvm_part2_sceleton.ipynb",
      "version": "0.3.2",
      "provenance": [],
      "collapsed_sections": []
    },
    "kernelspec": {
      "name": "python3",
      "display_name": "Python 3"
    },
    "accelerator": "GPU"
  },
  "cells": [
    {
      "metadata": {
        "id": "MkCyEwQy4UHB",
        "colab_type": "text"
      },
      "cell_type": "markdown",
      "source": [
        "**BVM Hands-On Tutorial (Part 2/2)**\n",
        "\n",
        "In this second part of the  tutorial, we will demonstrate how to use PyTorch's autograd engine to register medical images."
      ]
    },
    {
      "metadata": {
        "id": "IkOPbzDvbtwO",
        "colab_type": "text"
      },
      "cell_type": "markdown",
      "source": [
        "Let's again add all imports and mount the Google drive for data storage:"
      ]
    },
    {
      "metadata": {
        "id": "fSMINMVrMAe6",
        "colab_type": "code",
        "outputId": "5fbc9734-c6ba-4ad9-b126-0fc69299f05d",
        "colab": {
          "base_uri": "https://localhost:8080/",
          "height": 128
        }
      },
      "cell_type": "code",
      "source": [
        "from torch.utils.data import Dataset, DataLoader\n",
        "from torchvision.transforms import Compose\n",
        "from torch.utils.data.sampler import SubsetRandomSampler\n",
        "from torch.nn import ConstantPad3d as Pad\n",
        "import torch.nn.functional as F\n",
        "import torch.nn as nn\n",
        "import torch\n",
        "\n",
        "import matplotlib.pyplot as plt\n",
        "import nibabel as nib\n",
        "import numpy as np\n",
        "\n",
        "from ipywidgets import IntProgress\n",
        "from IPython.display import display\n",
        "import time\n",
        "\n",
        "\n",
        "from google.colab import drive\n",
        "import tarfile\n",
        "\n",
        "drive.mount('/content/drive')"
      ],
      "execution_count": 1,
      "outputs": [
        {
          "output_type": "stream",
          "text": [
            "Go to this URL in a browser: https://accounts.google.com/o/oauth2/auth?client_id=947318989803-6bn6qk8qdgf4n4g3pfee6491hc0brc4i.apps.googleusercontent.com&redirect_uri=urn%3Aietf%3Awg%3Aoauth%3A2.0%3Aoob&scope=email%20https%3A%2F%2Fwww.googleapis.com%2Fauth%2Fdocs.test%20https%3A%2F%2Fwww.googleapis.com%2Fauth%2Fdrive%20https%3A%2F%2Fwww.googleapis.com%2Fauth%2Fdrive.photos.readonly%20https%3A%2F%2Fwww.googleapis.com%2Fauth%2Fpeopleapi.readonly&response_type=code\n",
            "\n",
            "Enter your authorization code:\n",
            "··········\n",
            "Mounted at /content/drive\n"
          ],
          "name": "stdout"
        }
      ]
    },
    {
      "metadata": {
        "id": "s7aZQEW8bd6A",
        "colab_type": "text"
      },
      "cell_type": "markdown",
      "source": [
        "If run for the first time, you need to extract the data on the Google drive:"
      ]
    },
    {
      "metadata": {
        "id": "Yo5uRjNctgBO",
        "colab_type": "code",
        "colab": {}
      },
      "cell_type": "code",
      "source": [
        "tar = tarfile.open(name='/content/drive/My Drive/Task02_Heart.tar', mode='r')\n",
        "tar.extractall()\n",
        "tar.close()"
      ],
      "execution_count": 0,
      "outputs": []
    },
    {
      "metadata": {
        "id": "HOy-rXrDhNaV",
        "colab_type": "text"
      },
      "cell_type": "markdown",
      "source": [
        "Chose two images from the Heart dataset. One will be the *fixed*  image and the other one will be the *moving* image that should be transformed in a way that it resembles the *fixed* image. However, its transformation should be plausible, i.e. especially in the medical case e.g. folding should be prohibited.\n",
        "In order to achieve this, the following cells will guide you.\n",
        "First, we load our image data. The label data will later be used to evaluate the transformation - to check if the segmented structures align better after registration."
      ]
    },
    {
      "metadata": {
        "id": "mTR1s5Ghn2w5",
        "colab_type": "code",
        "colab": {}
      },
      "cell_type": "code",
      "source": [
        "# just a copied helper function from the last notebook...\n",
        "# used to downscale the 3D volumes\n",
        "class Scale(object):\n",
        "  \"\"\"Scale tensors spatially.\"\"\"\n",
        "\n",
        "  def __init__(self, width=1, height=1, depth=1):\n",
        "    assert width or height or depth\n",
        "    self.width = width\n",
        "    self.height = height\n",
        "    self.depth = depth\n",
        "\n",
        "  def __call__(self, sample):\n",
        "    sample['image'] = F.interpolate(\n",
        "      sample['image'],\n",
        "      scale_factor=(self.depth, self.height, self.width),\n",
        "      mode='trilinear'\n",
        "    )\n",
        "\n",
        "    sample['label'] = F.interpolate(\n",
        "      sample['label'].float(),\n",
        "      scale_factor=(self.depth, self.height, self.width),\n",
        "      mode='nearest'\n",
        "    ).long()\n",
        "\n",
        "    return sample"
      ],
      "execution_count": 0,
      "outputs": []
    },
    {
      "metadata": {
        "id": "PvXggixKbPxc",
        "colab_type": "code",
        "outputId": "7dc2aa0d-6a4b-4859-9338-65648d914591",
        "colab": {
          "base_uri": "https://localhost:8080/",
          "height": 255
        }
      },
      "cell_type": "code",
      "source": [
        "# load the image files \n",
        "with torch.no_grad():\n",
        "  data_base_path = '/content/Task02_Heart'\n",
        "\n",
        "  fixed_image_path = data_base_path + '/imagesTr/la_007.nii.gz'\n",
        "  fixed_label_path = data_base_path + '/labelsTr/la_007.nii.gz'\n",
        "\n",
        "  moving_image_path = data_base_path + '/imagesTr/la_023.nii.gz'\n",
        "  moving_label_path = data_base_path + '/labelsTr/la_023.nii.gz'\n",
        "\n",
        "  fixed_image = nib.load(fixed_image_path).get_data()\n",
        "  fixed_label = nib.load(fixed_label_path).get_data()\n",
        "\n",
        "  moving_image = nib.load(moving_image_path).get_data()\n",
        "  moving_label = nib.load(moving_label_path).get_data()\n",
        "\n",
        "  # as in the first part of the tutorial, we switch axes and add channel & batch\n",
        "  # dimensions to our tensors\n",
        "\n",
        "  fixed_image = torch.from_numpy(fixed_image).permute(2,1,0).unsqueeze(0).unsqueeze(0)\n",
        "  fixed_label = torch.from_numpy(fixed_label).permute(2,1,0).unsqueeze(0).unsqueeze(0).float()\n",
        "\n",
        "  moving_image = torch.from_numpy(moving_image).permute(2,1,0).unsqueeze(0).unsqueeze(0)\n",
        "  moving_label = torch.from_numpy(moving_label).permute(2,1,0).unsqueeze(0).unsqueeze(0).float()\n",
        "  \n",
        "  print('Sizes before:')\n",
        "  print(fixed_image.size())\n",
        "  print(fixed_label.size())\n",
        "  print(moving_image.size())\n",
        "  print(moving_label.size())\n",
        "  \n",
        "  # also, we subsample the images again\n",
        "  fixed_sample = {'image': fixed_image, 'label': fixed_label}\n",
        "  moving_sample = {'image': moving_image, 'label': moving_label}\n",
        "\n",
        "  \n",
        "  Scale_03 = Scale(0.3,0.3,0.3)\n",
        "  fixed_sample_sub = Scale_03(fixed_sample)\n",
        "  moving_sample_sub = Scale_03(moving_sample)\n",
        "\n",
        "  fixed_image = fixed_sample_sub['image']\n",
        "  fixed_label = fixed_sample_sub['label'].float()\n",
        "  moving_image = moving_sample_sub['image']\n",
        "  moving_label = moving_sample_sub['label'].float()\n",
        "  \n",
        "  print('Sizes after:')\n",
        "  print(fixed_image.size())\n",
        "  print(fixed_label.size())\n",
        "  print(moving_image.size())\n",
        "  print(moving_label.size())"
      ],
      "execution_count": 4,
      "outputs": [
        {
          "output_type": "stream",
          "text": [
            "Sizes before:\n",
            "torch.Size([1, 1, 130, 320, 320])\n",
            "torch.Size([1, 1, 130, 320, 320])\n",
            "torch.Size([1, 1, 110, 320, 320])\n",
            "torch.Size([1, 1, 110, 320, 320])\n",
            "Sizes after:\n",
            "torch.Size([1, 1, 39, 96, 96])\n",
            "torch.Size([1, 1, 39, 96, 96])\n",
            "torch.Size([1, 1, 33, 96, 96])\n",
            "torch.Size([1, 1, 33, 96, 96])\n"
          ],
          "name": "stdout"
        },
        {
          "output_type": "stream",
          "text": [
            "/usr/local/lib/python3.6/dist-packages/torch/nn/functional.py:2423: UserWarning: Default upsampling behavior when mode=trilinear is changed to align_corners=False since 0.4.0. Please specify align_corners=True if the old behavior is desired. See the documentation of nn.Upsample for details.\n",
            "  \"See the documentation of nn.Upsample for details.\".format(mode))\n"
          ],
          "name": "stderr"
        }
      ]
    },
    {
      "metadata": {
        "id": "6MuF6tROtBOM",
        "colab_type": "text"
      },
      "cell_type": "markdown",
      "source": [
        "Since the images initially have a different sizes but their spacing is equal, we pad the smaller dimensions to\n",
        "match the larger ones."
      ]
    },
    {
      "metadata": {
        "id": "WWDj112IteuU",
        "colab_type": "code",
        "outputId": "e7ae9432-5bfe-4648-c4eb-5fc6f6bb2cc6",
        "colab": {
          "base_uri": "https://localhost:8080/",
          "height": 35
        }
      },
      "cell_type": "code",
      "source": [
        "with torch.no_grad():\n",
        "  sz_0_max = torch.max(torch.Tensor([fixed_image.size(2), moving_image.size(2)])).item()\n",
        "  sz_1_max = torch.max(torch.Tensor([fixed_image.size(3), moving_image.size(3)])).item()\n",
        "  sz_2_max = torch.max(torch.Tensor([fixed_image.size(4), moving_image.size(4)])).item()\n",
        "  print('Size 0/1/2: ', sz_0_max,sz_1_max,sz_2_max)\n",
        "  \n",
        "  p_fix_0 = int(sz_0_max - fixed_image.size(2))\n",
        "  p_fix_1 = int(sz_1_max - fixed_image.size(3))\n",
        "  p_fix_2 = int(sz_2_max - fixed_image.size(4))\n",
        "  \n",
        "  p_mov_0 = int(sz_0_max - moving_image.size(2))\n",
        "  p_mov_1 = int(sz_1_max - moving_image.size(3))\n",
        "  p_mov_2 = int(sz_2_max - moving_image.size(4))\n",
        "  \n",
        "  p3d_fix = (0, p_fix_2, 0, p_fix_1, 0, p_fix_0)\n",
        "  p3d_mov = (0, p_mov_2, 0, p_mov_1, 0, p_mov_0)\n",
        "  \n",
        "  fixed_image = torch.nn.functional.pad(fixed_image, p3d_fix,'replicate')\n",
        "  fixed_label = torch.nn.functional.pad(fixed_label, p3d_fix,'replicate')\n",
        "  \n",
        "  moving_image = torch.nn.functional.pad(moving_image, p3d_mov,'replicate')\n",
        "  moving_label = torch.nn.functional.pad(moving_label, p3d_mov,'replicate')"
      ],
      "execution_count": 5,
      "outputs": [
        {
          "output_type": "stream",
          "text": [
            "Size 0/1/2:  39.0 96.0 96.0\n"
          ],
          "name": "stdout"
        }
      ]
    },
    {
      "metadata": {
        "id": "nNG5MvfP5Z65",
        "colab_type": "text"
      },
      "cell_type": "markdown",
      "source": [
        "As a measure of alignment before the registration, we can compute the dice coefficient of the segmented\n",
        "structures and also visualize two slices from both image volumes."
      ]
    },
    {
      "metadata": {
        "id": "xjjpXAd0jmP2",
        "colab_type": "code",
        "outputId": "cf2e732e-0e60-444d-c52a-29963aa98040",
        "colab": {
          "base_uri": "https://localhost:8080/",
          "height": 461
        }
      },
      "cell_type": "code",
      "source": [
        "plt_slice = 48\n",
        "\n",
        "plt.figure(figsize=(15,8))\n",
        "plt.subplot(221)\n",
        "plt.imshow(fixed_image[0,0,:,plt_slice,:])\n",
        "plt.subplot(222)\n",
        "plt.imshow(fixed_label[0,0,:,plt_slice,:])\n",
        "plt.subplot(223)\n",
        "plt.imshow(moving_image[0,0,:,plt_slice,:])\n",
        "plt.subplot(224)\n",
        "plt.imshow(moving_label[0,0,:,plt_slice,:])\n",
        "\n",
        "#### TODO: write a dice evaluation function: \n",
        "# takes two label images as inputs and returns their dice overlap value\n",
        "\n",
        "def dice_val(f_label, m_label):\n",
        "  # compute numerator\n",
        "  numerator = 0.0 # TODO\n",
        "  # compute denominator\n",
        "  denominator = 1.0 # TODO\n",
        "  return numerator / denominator\n",
        "\n",
        "\n",
        "dice_init = dice_val(fixed_label, moving_label)\n",
        "print('Dice init: ', dice_init)"
      ],
      "execution_count": 6,
      "outputs": [
        {
          "output_type": "stream",
          "text": [
            "Dice init:  0.0\n"
          ],
          "name": "stdout"
        },
        {
          "output_type": "display_data",
          "data": {
            "image/png": "[encoded data removed]",
            "text/plain": [
              "<Figure size 1080x576 with 4 Axes>"
            ]
          },
          "metadata": {
            "tags": []
          }
        }
      ]
    },
    {
      "metadata": {
        "id": "2CpHMPH06WHA",
        "colab_type": "text"
      },
      "cell_type": "markdown",
      "source": [
        "Now, we want to register the images.\n",
        "\n",
        "Given a pair of images $(\\mathcal{F}, \\mathcal{M})$, where the moving image $\\mathcal{M}$ should be aligned with the fixed image $\\mathcal{F}$, we formulate this problem as \n",
        "\\begin{equation}\n",
        "    argmin_{\\varphi} ~ \\mathcal{D}(\\mathbf{S}_{\\mathcal{F}}, \\varphi\\circ\\mathbf{S}_{\\mathcal{M}}) + \\alpha\\mathcal{R}(\\varphi)\n",
        "\\end{equation}\n",
        "\n",
        "i.e. we search the transformation $\\varphi$, that best transforms $\\mathbf{S}_{\\mathcal{M}}$ towards $\\mathbf{S}_{\\mathcal{F}}$. \n",
        "\n",
        "Note that\n",
        "\n",
        "1.    $\\mathbf{S}_{\\mathcal{M/F}}$ denote representations of $\\mathcal{M/F}$. If $\\mathbf{S}$ is the identity, the images are represented by their greyvalues themselves. Here, we will use the *MIND* descriptor as image representation, which would also be capable of handling multi-modal images.\n",
        "2.  $ \\mathcal{D}(\\cdot)$ penalizes dissimilarities, e.g. when choosing the *Sum of Squared Differences* (SSD) as measure, we would prefer small differences between at every image position when comparing $\\mathbf{S}_{\\mathcal{F}}(\\mathbf{x})$ and $(\\varphi\\circ\\mathbf{S}_{\\mathcal{F}})(\\mathbf{x})$.\n",
        "3.  weighted by a scalar $\\alpha$, $\\mathcal{R}(\\varphi)$ penalizes implausible transformations, i.e. folding or abrupt changes in deformation field values for neighboring positions.\n",
        "\n",
        "This leaves the following tasks to do:\n",
        "\n",
        "\n",
        "1.   Compute the *MIND* representations of the fixed and moving images.\n",
        "2.   Define a similarity measure function.\n",
        "3.   Define the regularizer as a function.\n",
        "4.   Optimize the transformation parameters.\n",
        "\n",
        "\n"
      ]
    },
    {
      "metadata": {
        "id": "cRWLgk8a7a1d",
        "colab_type": "text"
      },
      "cell_type": "markdown",
      "source": [
        "1. Compute the *MIND* features."
      ]
    },
    {
      "metadata": {
        "id": "N8-LtRgBrvz1",
        "colab_type": "code",
        "outputId": "72d6e94d-88d3-4240-9cc9-096ce218e044",
        "colab": {
          "base_uri": "https://localhost:8080/",
          "height": 54
        }
      },
      "cell_type": "code",
      "source": [
        "def MINDSSC3d(img_in,theta_ssc,kernel_hw):\n",
        "    C = theta_ssc.size(1)\n",
        "    H = img_in.size(2); W = img_in.size(3); D = img_in.size(4)\n",
        "    grid_x, grid_y, grid_z = torch.meshgrid((torch.linspace(-1,1,H),torch.linspace(-1,1,W),torch.linspace(-1,1,D)))\n",
        "    grid_x = grid_x.contiguous();grid_y = grid_y.contiguous();grid_z = grid_z.contiguous()\n",
        "    grid_xyz = torch.stack((grid_z.view(1,1,-1,1),grid_y.view(1,1,-1,1),grid_x.view(1,1,-1,1)),4).cuda()\n",
        "\n",
        "    sampled = F.grid_sample(img_in,grid_xyz + theta_ssc[0,:,:].view(1,-1,1,1,3)).view(1,C,H,W,D)\n",
        "    sampled -= F.grid_sample(img_in,grid_xyz + theta_ssc[1,:,:].view(1,-1,1,1,3)).view(1,C,H,W,D)\n",
        "    mind = F.avg_pool3d(torch.abs(sampled)**2,kernel_hw*2+1,stride=1,padding=kernel_hw)\n",
        "    mind -= torch.min(mind,1,keepdim=True)[0]   \n",
        "    mind /= (torch.sum(mind,1,keepdim=True)+0.001)\n",
        "    mind = torch.exp(-mind)\n",
        "    del sampled; del grid_xyz\n",
        "    torch.cuda.empty_cache()\n",
        "    return mind\n",
        "\n",
        "with torch.no_grad():\n",
        "  delta = 1\n",
        "  d = delta*3.0\n",
        "  H = fixed_image.size(2); W = fixed_image.size(3); D = fixed_image.size(4)\n",
        "  theta_ssc = torch.Tensor(2,12,3)\n",
        "  # 1=-H, 2=-D, 3=+W, 4=-W, 5=+D, 6=+H\n",
        "  # 1,1,2,2,3,3,4,4,5,5,6,6,\n",
        "  # 2,3,4,6,2,5,1,5,1,6,4,3,\n",
        "  theta_ssc[0,:,0] = torch.Tensor([-d,-d, 0, 0, 0, 0, 0, 0, 0, 0,+d,+d])/H \n",
        "  theta_ssc[0,:,1] = torch.Tensor([ 0, 0, 0, 0,+d,+d,-d,-d, 0, 0, 0, 0])/W\n",
        "  theta_ssc[0,:,2] = torch.Tensor([ 0, 0,-d,-d, 0, 0, 0, 0,+d,+d, 0, 0])/D\n",
        "\n",
        "  theta_ssc[1,:,0] = torch.Tensor([ 0, 0, 0,+d, 0, 0,-d, 0,-d,+d, 0, 0])/H\n",
        "  theta_ssc[1,:,1] = torch.Tensor([ 0,+d,-d, 0, 0, 0, 0, 0, 0, 0,-d,+d])/W\n",
        "  theta_ssc[1,:,2] = torch.Tensor([-d, 0, 0, 0,-d,+d, 0,+d, 0, 0, 0, 0])/D\n",
        "\n",
        "  theta_ssc = nn.Parameter(theta_ssc+torch.randn(2,12,3)*0.00).cuda()\n",
        "  kernel_hw = 2\n",
        "  \n",
        "  ###### TODO compute MIND features; maybe on the GPU?\n",
        "  # insert the correct tensors....\n",
        "  fixed_feat = MINDSSC3d(torch.zeros(1,1,25,25,25).cuda(),theta_ssc,kernel_hw)\n",
        "  moving_feat = MINDSSC3d(torch.zeros(1,1,25,25,25).cuda(),theta_ssc,kernel_hw)\n",
        "  \n",
        "  print(fixed_feat.size())\n",
        "  print(moving_feat.size())"
      ],
      "execution_count": 8,
      "outputs": [
        {
          "output_type": "stream",
          "text": [
            "torch.Size([1, 12, 25, 25, 25])\n",
            "torch.Size([1, 12, 25, 25, 25])\n"
          ],
          "name": "stdout"
        }
      ]
    },
    {
      "metadata": {
        "id": "rAjH0lHFlT1o",
        "colab_type": "text"
      },
      "cell_type": "markdown",
      "source": [
        "Visualization of a *MIND* slice"
      ]
    },
    {
      "metadata": {
        "id": "V1VHp2AvCc1u",
        "colab_type": "code",
        "outputId": "58e9449b-6329-4452-acd2-07660e7fd5fd",
        "colab": {
          "base_uri": "https://localhost:8080/",
          "height": 505
        }
      },
      "cell_type": "code",
      "source": [
        "plt.figure(figsize=(15,8))\n",
        "plt.subplot(121)\n",
        "#plt.imshow(f)\n",
        "plt.subplot(122)\n",
        "#plt.imshow()"
      ],
      "execution_count": 10,
      "outputs": [
        {
          "output_type": "execute_result",
          "data": {
            "text/plain": [
              "<matplotlib.axes._subplots.AxesSubplot at 0x7fdb5812e2b0>"
            ]
          },
          "metadata": {
            "tags": []
          },
          "execution_count": 10
        },
        {
          "output_type": "display_data",
          "data": {
            "image/png": "[encoded data removed]",
            "text/plain": [
              "<Figure size 1080x576 with 2 Axes>"
            ]
          },
          "metadata": {
            "tags": []
          }
        }
      ]
    },
    {
      "metadata": {
        "id": "9C7Y2qowlEoG",
        "colab_type": "text"
      },
      "cell_type": "markdown",
      "source": [
        "2. Define a loss function: in the *MIND* case its simple, we can use the *Sum of Absolute Distances* (SAD)"
      ]
    },
    {
      "metadata": {
        "id": "OVi1pfrTlCsQ",
        "colab_type": "code",
        "colab": {}
      },
      "cell_type": "code",
      "source": [
        "sim_measure = # look for one of pytorchs loss functions -> that is equivalently to SAD"
      ],
      "execution_count": 0,
      "outputs": []
    },
    {
      "metadata": {
        "id": "p9LFJifZqiM4",
        "colab_type": "text"
      },
      "cell_type": "markdown",
      "source": [
        "3. Define the regularizer:"
      ]
    },
    {
      "metadata": {
        "id": "ZtuaD78Yda2y",
        "colab_type": "code",
        "colab": {}
      },
      "cell_type": "code",
      "source": [
        "# implement beding energy regularisation\n",
        "\n",
        "# finite difference operation is given for dFdx\n",
        "# TODO: dFdy, dFdz\n",
        "\n",
        "def dFdx(field):\n",
        "    # expects a flowfield : 1xDxHxWx3 -> last dim: x,y,z\n",
        "    # computes per component derivative (last 3 components in x_dir)\n",
        "    # and clips it accordingly in the other dimensions, so the size will be diminished by 2 equally\n",
        "    dx = (field[:,2:,1:-1,1:-1,0] - field[:,:-2,1:-1,1:-1,0]) / 2.0\n",
        "    dy = (field[:,1:-1,2:,1:-1,0] - field[:,1:-1,:-2,1:-1,0]) / 2.0\n",
        "    dz = (field[:,1:-1,1:-1,2:,0] - field[:,1:-1,1:-1,:-2,0]) / 2.0\n",
        "    return torch.stack((dx,dy,dz),dim=4)\n",
        "\n",
        "\n",
        "\n",
        "class BendingEnergyReg(torch.nn.Module):\n",
        "    def __init__(self):\n",
        "        super(BendingEnergyReg, self).__init__()\n",
        "    \n",
        "    def forward(self, field):\n",
        "        # compute dx, dy, dz\n",
        "        dx = dFdx(field)\n",
        "        dy = #....\n",
        "        dz = #....\n",
        "        \n",
        "        # second derivatives & mixed terms\n",
        "        dxx = #....\n",
        "        dyy = #....\n",
        "        dzz = #....\n",
        "        dxy = #....\n",
        "        dyz = #....\n",
        "        dxz = #....\n",
        "        \n",
        "        # putting it all together\n",
        "        penalty = torch.sum(dxx**2 + dyy**2 + dzz**2 + 2.0*(dxy**2 + dyz**2 + dxz**2))\n",
        "        \n",
        "        return penalty * (1.0/torch.numel(dxx))"
      ],
      "execution_count": 0,
      "outputs": []
    },
    {
      "metadata": {
        "id": "a5dNlP1_ZIac",
        "colab_type": "text"
      },
      "cell_type": "markdown",
      "source": [
        "Build the registration optimization process:\n",
        "- Define functions to transform the moving image and label\n",
        "- Define the transformation grid as parameters that have to be backpropagated into & updated\n",
        "- Use a coarse grid & employ B-Spline interpolation methods to upsample it again\n",
        "- For several iterations, update the parameter tensor with the Adam optimizer"
      ]
    },
    {
      "metadata": {
        "id": "F8T5wQBaW2Dg",
        "colab_type": "code",
        "colab": {}
      },
      "cell_type": "code",
      "source": [
        "def img_warp(img, id_field, param_field):\n",
        "  # expects the image to warp, the full resolution identity field\n",
        "  # and the coarser param_field containing the displacments\n",
        "  \n",
        "  # 1) upsamples the coarse grid to the same resolution as the image resolution\n",
        "  param_field = param_field.permute(0, 4, 1, 2, 3)\n",
        "  param_field = torch.nn.functional.interpolate(param_field,\n",
        "                                                size=(img.size(2), img.size(3), img.size(4)),\n",
        "                                                mode='trilinear', align_corners=True)\n",
        "  # 2) smoothes the field... (also a kind of regularisation)\n",
        "  smoother = torch.nn.Sequential(torch.nn.AvgPool3d(kernel_size=5, stride=1, padding=2),\n",
        "                                 torch.nn.AvgPool3d(kernel_size=5, stride=1, padding=2),\n",
        "                                 torch.nn.AvgPool3d(kernel_size=5, stride=1, padding=2))\n",
        "  param_field = smoother(param_field)\n",
        "  param_field = param_field.permute(0, 2, 3, 4, 1)\n",
        "  # 3) employing grid_sampler to interpolate off-grid image values\n",
        "  warped = torch.nn.functional.grid_sample(img, param_field + id_field,\n",
        "                                           padding_mode=\"border\")\n",
        "  return warped\n",
        "\n",
        "def label_warp(img, id_field, param_field):\n",
        "  # same as above, but the grid_sampling uses nearest neighbor interpolation\n",
        "  # to preserve labels -> no interpolation between 0 & 1 e.g. and \"adding\"\n",
        "  # false labels as 0.5\n",
        "  param_field = param_field.permute(0, 4, 1, 2, 3)\n",
        "  param_field = torch.nn.functional.interpolate(param_field,\n",
        "                                                size=(img.size(2), img.size(3), img.size(4)),\n",
        "                                                mode='trilinear', align_corners=True)\n",
        "  smoother = torch.nn.Sequential(torch.nn.AvgPool3d(kernel_size=5, stride=1, padding=2),\n",
        "                                 torch.nn.AvgPool3d(kernel_size=5, stride=1, padding=2),\n",
        "                                 torch.nn.AvgPool3d(kernel_size=5, stride=1, padding=2))\n",
        "  param_field = smoother(param_field)\n",
        "  param_field = param_field.permute(0, 2, 3, 4, 1)\n",
        "  warped = torch.nn.functional.grid_sample(img, param_field + id_field,\n",
        "                                           padding_mode=\"border\",\n",
        "                                           mode='nearest') # HERE: nearest neighbor\n",
        "  return warped"
      ],
      "execution_count": 0,
      "outputs": []
    },
    {
      "metadata": {
        "id": "eEdeRNwSqbwq",
        "colab_type": "code",
        "outputId": "b662687b-aa4f-4fb6-ef70-9c60bffda5d0",
        "colab": {
          "base_uri": "https://localhost:8080/",
          "height": 136
        }
      },
      "cell_type": "code",
      "source": [
        "# define the coarse parameter grid -> identity field at first\n",
        "with torch.no_grad():\n",
        "  sub_factor = # choose a coarser grid factor \n",
        "  \n",
        "  s0 = fixed_image.size(2)\n",
        "  s1 = fixed_image.size(3)\n",
        "  s2 = fixed_image.size(4)\n",
        "\n",
        "  s0_sub = int(s0 / sub_factor)\n",
        "  s1_sub = int(s1 / sub_factor)\n",
        "  s2_sub = int(s2 / sub_factor)\n",
        "\n",
        "\n",
        "  m0, m1, m2 = torch.meshgrid(torch.linspace(-1,1,s0),\n",
        "                                          torch.linspace(-1,1,s1),\n",
        "                                          torch.linspace(-1,1,s2))\n",
        "  \n",
        "  id_field = torch.stack((m2, m1, m0), dim=3).unsqueeze(0)\n",
        "  \n",
        "with torch.enable_grad():\n",
        "  # this is the parameter tensor\n",
        "  displ = torch.zeros(1, s0_sub, s1_sub, s2_sub, 3)\n",
        "  print(displ.size())\n",
        "  \n",
        "  # set number of registration iterations\n",
        "  reg_iters = #... set a number\n",
        "  reg_regul = BendingEnergyReg()\n",
        "  alpha = #... \n",
        "  \n",
        "  # track the loss evolution\n",
        "  sim_evo = torch.zeros(reg_iters, requires_grad=False)\n",
        "  regul_evo = torch.zeros(reg_iters, requires_grad=False)\n",
        "  \n",
        "  # register the parameters with the optimizer\n",
        "  displ = displ.cuda()\n",
        "  displ = torch.nn.Parameter(displ)\n",
        "  reg_adam = torch.optim.Adam([displ], lr=0.000) # set a suitable initial lr\n",
        "  \n",
        "  # move inputs to the GPU\n",
        "  id_field = id_field.cuda().detach()\n",
        "  fixed_feat = fixed_feat.cuda().detach()\n",
        "  moving_feat = moving_feat.cuda().detach()\n",
        "  \n",
        "  # instantiate a prograss bar for visualization...\n",
        "  f = IntProgress(min=0, max=reg_iters) \n",
        "  display(f) # display the bar\n",
        "  \n",
        "  \n",
        "  for rdx in range(reg_iters):\n",
        "    \n",
        "    reg_adam.zero_grad()\n",
        "    \n",
        "    warped_feat = # insert the correct warping function with suitable inputs\n",
        "    \n",
        "    similarity_val = # compute the similarity value\n",
        "    regularizer_val = # compute the regularization value\n",
        "    optim_val = similarity_val + regularizer_val\n",
        "    \n",
        "    # let autograd do the backpropagation for you...\n",
        "    optim_val.backward()\n",
        "    # ... and adam the optimisation!\n",
        "    reg_adam.step()\n",
        "    \n",
        "    # plot the progress\n",
        "    sim_evo[rdx] = similarity_val.item()\n",
        "    regul_evo[rdx] = regularizer_val.item()\n",
        "    f.value += 1 # signal to increment the progress bar\n",
        "   \n",
        "  # display the registration \n",
        "  plt.figure()\n",
        "  plt.plot(sim_evo.numpy(),label='Similarity')\n",
        "  plt.plot(regul_evo.numpy(),label='Regularizer')\n",
        "  plt.legend()\n",
        "  \n",
        "  "
      ],
      "execution_count": 11,
      "outputs": [
        {
          "output_type": "error",
          "ename": "SyntaxError",
          "evalue": "ignored",
          "traceback": [
            "\u001b[0;36m  File \u001b[0;32m\"<ipython-input-11-3038f85efeef>\"\u001b[0;36m, line \u001b[0;32m2\u001b[0m\n\u001b[0;31m    sub_factor = # choose a coarser grid factor\u001b[0m\n\u001b[0m                                                ^\u001b[0m\n\u001b[0;31mSyntaxError\u001b[0m\u001b[0;31m:\u001b[0m invalid syntax\n"
          ]
        }
      ]
    },
    {
      "metadata": {
        "id": "sGQ5CBe9noqO",
        "colab_type": "code",
        "outputId": "588bd9d2-f3d5-45a0-90b5-e97a49676136",
        "colab": {
          "base_uri": "https://localhost:8080/",
          "height": 905
        }
      },
      "cell_type": "code",
      "source": [
        "\n",
        "plt.figure(figsize=(30,15))\n",
        "plt.subplot(131)\n",
        "#plt.imshow(moving_feat[0,0,:,plt_slice,:].detach().cpu())\n",
        "plt.subplot(132)\n",
        "#plt.imshow(warped_feat[0,0,:,plt_slice,:].detach().cpu())\n",
        "plt.subplot(133)\n",
        "#plt.imshow(fixed_feat[0,0,:,plt_slice,:].cpu().detach())"
      ],
      "execution_count": 12,
      "outputs": [
        {
          "output_type": "execute_result",
          "data": {
            "text/plain": [
              "<matplotlib.axes._subplots.AxesSubplot at 0x7fdb580dbdd8>"
            ]
          },
          "metadata": {
            "tags": []
          },
          "execution_count": 12
        },
        {
          "output_type": "display_data",
          "data": {
            "image/png": "[encoded data removed]",
            "text/plain": [
              "<Figure size 2160x1080 with 3 Axes>"
            ]
          },
          "metadata": {
            "tags": []
          }
        }
      ]
    },
    {
      "metadata": {
        "id": "Ksg9r5nWhEe8",
        "colab_type": "text"
      },
      "cell_type": "markdown",
      "source": [
        "check the result (DICE)"
      ]
    },
    {
      "metadata": {
        "id": "Okhb0cI2hJxo",
        "colab_type": "code",
        "outputId": "8e73b37a-057e-4e7f-d255-b3e978874d7c",
        "colab": {
          "base_uri": "https://localhost:8080/",
          "height": 136
        }
      },
      "cell_type": "code",
      "source": [
        "with torch.no_grad():\n",
        "  \n",
        "  # illustrate the results\n",
        "  warped_label = # warp the label image according to the optimized displacements\n",
        "  warped_image = # warp the CT image according to the optimized displacements\n",
        "  \n",
        "  dice_reg = dice_val(fixed_label, warped_label)\n",
        "  print('Dice init:', dice_init)\n",
        "  print('Dice reg :', dice_reg)\n",
        "  \n",
        "  # choose a plot slice: \n",
        "  plt_slice = #\n",
        "  \n",
        "  plt.figure(figsize=(15,8))\n",
        "  plt.subplot(321)\n",
        "  plt.imshow(moving_image[0,0,:,plt_slice,:])\n",
        "  plt.subplot(322)\n",
        "  plt.imshow(moving_label[0,0,:,plt_slice,:])\n",
        "  plt.subplot(323)\n",
        "  plt.imshow(warped_image[0,0,:,plt_slice,:])\n",
        "  plt.subplot(324)\n",
        "  plt.imshow(warped_label[0,0,:,plt_slice,:])\n",
        "  plt.subplot(325)\n",
        "  plt.imshow(fixed_image[0,0,:,plt_slice,:])\n",
        "  plt.subplot(326)\n",
        "  plt.imshow(fixed_label[0,0,:,plt_slice,:])"
      ],
      "execution_count": 13,
      "outputs": [
        {
          "output_type": "error",
          "ename": "SyntaxError",
          "evalue": "ignored",
          "traceback": [
            "\u001b[0;36m  File \u001b[0;32m\"<ipython-input-13-b6f6330ad2a4>\"\u001b[0;36m, line \u001b[0;32m4\u001b[0m\n\u001b[0;31m    warped_label = # warp the label image according to the optimized displacements\u001b[0m\n\u001b[0m                                                                                  ^\u001b[0m\n\u001b[0;31mSyntaxError\u001b[0m\u001b[0;31m:\u001b[0m invalid syntax\n"
          ]
        }
      ]
    },
    {
      "metadata": {
        "id": "XdwoTVnXqexa",
        "colab_type": "text"
      },
      "cell_type": "markdown",
      "source": [
        "check the resulting fields plausibility"
      ]
    },
    {
      "metadata": {
        "id": "f2yHWTMrMH_0",
        "colab_type": "code",
        "outputId": "0c44535a-5de4-44f8-8bb4-c080e8cdb54e",
        "colab": {
          "base_uri": "https://localhost:8080/",
          "height": 245
        }
      },
      "cell_type": "code",
      "source": [
        "# check the jacobian, e.g. number of negative jacobian entries (folding)\n",
        "\n",
        "def jacobian_determinant_3d(dense_flow):\n",
        "    B,_,H,W,D = dense_flow.size()\n",
        "    \n",
        "    dense_pix = dense_flow.to(dense_flow.device).flip(1)/(torch.Tensor([H-1,W-1,D-1])/2).view(1,3,1,1,1)\n",
        "    gradz = nn.Conv3d(3,3,(3,1,1),padding=(1,0,0),bias=False,groups=3)\n",
        "    gradz.weight.data[:,0,:,0,0] = torch.tensor([-0.5,0,0.5]).view(1,3).repeat(3,1)\n",
        "    gradz.to(dense_flow.device)\n",
        "    grady = nn.Conv3d(3,3,(1,3,1),padding=(0,1,0),bias=False,groups=3)\n",
        "    grady.weight.data[:,0,0,:,0] = torch.tensor([-0.5,0,0.5]).view(1,3).repeat(3,1)\n",
        "    grady.to(dense_flow.device)\n",
        "    gradx = nn.Conv3d(3,3,(1,1,3),padding=(0,0,1),bias=False,groups=3)\n",
        "    gradx.weight.data[:,0,0,0,:] = torch.tensor([-0.5,0,0.5]).view(1,3).repeat(3,1)\n",
        "    gradx.to(dense_flow.device)\n",
        "    with torch.no_grad():\n",
        "        jacobian = torch.cat((gradz(dense_pix),grady(dense_pix),gradx(dense_pix)),0)+torch.eye(3,3).view(3,3,1,1,1).to(dense_flow.device)\n",
        "        jacobian = jacobian[:,:,2:-2,2:-2,2:-2]\n",
        "        jac_det = jacobian[0,0,:,:,:]*(jacobian[1,1,:,:,:]*jacobian[2,2,:,:,:]-jacobian[1,2,:,:,:]*jacobian[2,1,:,:,:])-\\\n",
        "        jacobian[1,0,:,:,:]*(jacobian[0,1,:,:,:]*jacobian[2,2,:,:,:]-jacobian[0,2,:,:,:]*jacobian[2,1,:,:,:])+\\\n",
        "        jacobian[2,0,:,:,:]*(jacobian[0,1,:,:,:]*jacobian[1,2,:,:,:]-jacobian[0,2,:,:,:]*jacobian[1,1,:,:,:])\n",
        "\n",
        "    return jac_det\n",
        "\n",
        "\n",
        "dense_field = torch.nn.functional.interpolate(displ.permute(0,4,1,2,3),\n",
        "                                              size=(id_field.size(1), id_field.size(2), id_field.size(3)),\n",
        "                                              mode='trilinear', align_corners=True).permute(0,2,3,4,1)\n",
        "\n",
        "jac_det = jacobian_determinant_3d((id_field+dense_field).cpu().permute(0,4,1,2,3))\n",
        "\n",
        "np.set_printoptions(formatter={'float': '{: 0.3f}'.format})\n",
        "\n",
        "neg_frac = torch.mean((jac_det<0).float())\n",
        "print('%0.3f'%(jac_det.std()),'%0.3f'%(neg_frac))"
      ],
      "execution_count": 14,
      "outputs": [
        {
          "output_type": "error",
          "ename": "NameError",
          "evalue": "ignored",
          "traceback": [
            "\u001b[0;31m---------------------------------------------------------------------------\u001b[0m",
            "\u001b[0;31mNameError\u001b[0m                                 Traceback (most recent call last)",
            "\u001b[0;32m<ipython-input-14-9fc7dd6664c0>\u001b[0m in \u001b[0;36m<module>\u001b[0;34m()\u001b[0m\n\u001b[1;32m     21\u001b[0m \u001b[0;34m\u001b[0m\u001b[0m\n\u001b[1;32m     22\u001b[0m \u001b[0;34m\u001b[0m\u001b[0m\n\u001b[0;32m---> 23\u001b[0;31m dense_field = torch.nn.functional.interpolate(displ.permute(0,4,1,2,3),\n\u001b[0m\u001b[1;32m     24\u001b[0m                                               \u001b[0msize\u001b[0m\u001b[0;34m=\u001b[0m\u001b[0;34m(\u001b[0m\u001b[0mid_field\u001b[0m\u001b[0;34m.\u001b[0m\u001b[0msize\u001b[0m\u001b[0;34m(\u001b[0m\u001b[0;36m1\u001b[0m\u001b[0;34m)\u001b[0m\u001b[0;34m,\u001b[0m \u001b[0mid_field\u001b[0m\u001b[0;34m.\u001b[0m\u001b[0msize\u001b[0m\u001b[0;34m(\u001b[0m\u001b[0;36m2\u001b[0m\u001b[0;34m)\u001b[0m\u001b[0;34m,\u001b[0m \u001b[0mid_field\u001b[0m\u001b[0;34m.\u001b[0m\u001b[0msize\u001b[0m\u001b[0;34m(\u001b[0m\u001b[0;36m3\u001b[0m\u001b[0;34m)\u001b[0m\u001b[0;34m)\u001b[0m\u001b[0;34m,\u001b[0m\u001b[0;34m\u001b[0m\u001b[0;34m\u001b[0m\u001b[0m\n\u001b[1;32m     25\u001b[0m                                               mode='trilinear', align_corners=True).permute(0,2,3,4,1)\n",
            "\u001b[0;31mNameError\u001b[0m: name 'displ' is not defined"
          ]
        }
      ]
    },
    {
      "metadata": {
        "id": "sfwoMtgb9_kz",
        "colab_type": "text"
      },
      "cell_type": "markdown",
      "source": [
        "*Additional* task for those of you that are really fast:\n",
        "\n",
        "use **your own trained UNet**-Encoder as feature_images and try to register the images based on this representation below!"
      ]
    },
    {
      "metadata": {
        "id": "V4FABwqh-qZt",
        "colab_type": "code",
        "colab": {}
      },
      "cell_type": "code",
      "source": [
        "# copy paste the loop above and change it to suit your needs.\n",
        "# also generate the UNet feature representations of the fixed and moving image"
      ],
      "execution_count": 0,
      "outputs": []
    }
  ]
}