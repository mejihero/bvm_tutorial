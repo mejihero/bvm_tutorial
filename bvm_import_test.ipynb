{
  "nbformat": 4,
  "nbformat_minor": 0,
  "metadata": {
    "colab": {
      "name": "bvm_import_test.ipynb",
      "version": "0.3.2",
      "provenance": []
    },
    "kernelspec": {
      "name": "python3",
      "display_name": "Python 3"
    }
  },
  "cells": [
    {
      "metadata": {
        "id": "3ikC-QpDTb6N",
        "colab_type": "code",
        "colab": {}
      },
      "cell_type": "code",
      "source": [
        "import torch\n",
        "import torch.nn as nn\n"
      ],
      "execution_count": 0,
      "outputs": []
    },
    {
      "metadata": {
        "id": "zBuDlzJ5UQBF",
        "colab_type": "code",
        "colab": {
          "base_uri": "https://localhost:8080/",
          "height": 148
        },
        "outputId": "b7d8ca42-37ec-4aa1-bb1b-f5e9b3eacefb"
      },
      "cell_type": "code",
      "source": [
        "!git clone https://github.com/multimodallearning/bvm_tutorial.git"
      ],
      "execution_count": 4,
      "outputs": [
        {
          "output_type": "stream",
          "text": [
            "Cloning into 'bvm_tutorial'...\n",
            "remote: Enumerating objects: 31, done.\u001b[K\n",
            "remote: Counting objects: 100% (31/31), done.\u001b[K\n",
            "remote: Compressing objects: 100% (29/29), done.\u001b[K\n",
            "remote: Total 31 (delta 9), reused 2 (delta 0), pack-reused 0\u001b[K\n",
            "Unpacking objects: 100% (31/31), done.\n"
          ],
          "name": "stdout"
        }
      ]
    },
    {
      "metadata": {
        "id": "LzBmb4mYUHHZ",
        "colab_type": "text"
      },
      "cell_type": "markdown",
      "source": [
        "# Import functions from github repo example"
      ]
    },
    {
      "metadata": {
        "id": "-jsbOAl9Tdsr",
        "colab_type": "code",
        "colab": {}
      },
      "cell_type": "code",
      "source": [
        "from bvm_tutorial.utils import countParam"
      ],
      "execution_count": 0,
      "outputs": []
    },
    {
      "metadata": {
        "id": "TJ1nU2_GTh2D",
        "colab_type": "code",
        "colab": {}
      },
      "cell_type": "code",
      "source": [
        "class ConvNet(nn.Module):\n",
        "    def __init__(self):\n",
        "\n",
        "        super(ConvNet, self).__init__()\n",
        "        channels = 16\n",
        "        \n",
        "\n",
        "        self.layer1 = nn.Conv3d(channels*8, channels*4, 1, bias=False, groups=1)\n",
        "        self.batch1 = nn.BatchNorm3d(channels*4)\n",
        "        self.layer2 = nn.Conv3d(channels*4, channels*4, 3, bias=False, padding=1)\n",
        "        self.batch2 = nn.BatchNorm3d(channels*4)\n",
        "        self.layer3 = nn.Conv3d(channels*4, channels*1, 1)\n",
        "\n",
        "\n",
        "    def forward(self, sampled):\n",
        "        \n",
        "    \n",
        "        x = F.relu(self.batch1(self.layer1(sampled)))\n",
        "        x = F.relu(self.batch2(self.layer2(x)))\n",
        "        features = self.layer3(x)\n",
        "        return features\n"
      ],
      "execution_count": 0,
      "outputs": []
    },
    {
      "metadata": {
        "id": "KdYWSedqU_J2",
        "colab_type": "code",
        "colab": {
          "base_uri": "https://localhost:8080/",
          "height": 34
        },
        "outputId": "a0954f7f-9d07-434d-8e7a-28e92a56eaa4"
      },
      "cell_type": "code",
      "source": [
        "net = ConvNet()\n",
        "print(countParam(net))"
      ],
      "execution_count": 12,
      "outputs": [
        {
          "output_type": "stream",
          "text": [
            "120080\n"
          ],
          "name": "stdout"
        }
      ]
    }
  ]
}